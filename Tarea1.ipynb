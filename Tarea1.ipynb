{
  "nbformat": 4,
  "nbformat_minor": 0,
  "metadata": {
    "colab": {
      "name": "Tarea1.ipynb",
      "provenance": [],
      "collapsed_sections": [],
      "include_colab_link": true
    },
    "kernelspec": {
      "name": "python3",
      "display_name": "Python 3"
    }
  },
  "cells": [
    {
      "cell_type": "markdown",
      "metadata": {
        "id": "view-in-github",
        "colab_type": "text"
      },
      "source": [
        "<a href=\"https://colab.research.google.com/github/Ecaballero333/Ort_Machine_Learning/blob/main/Tarea1.ipynb\" target=\"_parent\"><img src=\"https://colab.research.google.com/assets/colab-badge.svg\" alt=\"Open In Colab\"/></a>"
      ]
    },
    {
      "cell_type": "markdown",
      "metadata": {
        "id": "azGmdi_0oIu0"
      },
      "source": [
        "# Tarea 1"
      ]
    },
    {
      "cell_type": "markdown",
      "metadata": {
        "id": "0frx7HtVV-nE"
      },
      "source": [
        "\n",
        "La tarea siguiente implica el uso de un dataset real para el cual van a tener que entrenar un Árbol de decisión para detectar cancer de mama a partir de distintas mediciones. \n",
        "\n",
        "La descripción del dataset la pueden encontrar aquí: https://archive.ics.uci.edu/ml/datasets/Breast+Cancer+Wisconsin+%28Original%29"
      ]
    },
    {
      "cell_type": "code",
      "metadata": {
        "id": "iS3l2zFR81yf"
      },
      "source": [
        "# Importar librerias\n",
        "import pandas as pd\n",
        "import numpy as np\n",
        "import matplotlib as mpl\n",
        "import matplotlib.pyplot as plt\n",
        "import seaborn as sns\n",
        "from sklearn.preprocessing import MinMaxScaler, StandardScaler\n",
        "import pylab as pl\n",
        "\n",
        "# Agregar librerias que entiendan necesarias para el trabajo"
      ],
      "execution_count": 149,
      "outputs": []
    },
    {
      "cell_type": "code",
      "metadata": {
        "id": "N4Bb_DEHWeso",
        "colab": {
          "base_uri": "https://localhost:8080/"
        },
        "outputId": "d5ccee09-ff15-4f78-c2ce-639523eb5caf"
      },
      "source": [
        "# Descargo dataset\n",
        "! wget -O breast_cancer.csv https://archive.ics.uci.edu/ml/machine-learning-databases/breast-cancer-wisconsin/breast-cancer-wisconsin.data\n"
      ],
      "execution_count": 2,
      "outputs": [
        {
          "output_type": "stream",
          "name": "stdout",
          "text": [
            "--2021-09-29 00:52:21--  https://archive.ics.uci.edu/ml/machine-learning-databases/breast-cancer-wisconsin/breast-cancer-wisconsin.data\n",
            "Resolving archive.ics.uci.edu (archive.ics.uci.edu)... 128.195.10.252\n",
            "Connecting to archive.ics.uci.edu (archive.ics.uci.edu)|128.195.10.252|:443... connected.\n",
            "HTTP request sent, awaiting response... 200 OK\n",
            "Length: 19889 (19K) [application/x-httpd-php]\n",
            "Saving to: ‘breast_cancer.csv’\n",
            "\n",
            "breast_cancer.csv   100%[===================>]  19.42K  --.-KB/s    in 0.07s   \n",
            "\n",
            "2021-09-29 00:52:22 (281 KB/s) - ‘breast_cancer.csv’ saved [19889/19889]\n",
            "\n"
          ]
        }
      ]
    },
    {
      "cell_type": "code",
      "metadata": {
        "id": "Iou3-ayM80jr"
      },
      "source": [
        "# Guardo dataset en un dataframes de pandas\n",
        "column_names = [\"Id\", \"clump_thicknes\", \"cell_size\", \"cell_shape\", \"adhesion\", \"epithelial_cell_size\", \"nuclei\", \"chromatin\", \"nucleoli\", \"mitoses\", \"target\"]\n",
        "df = pd.read_csv(\"breast_cancer.csv\", header = None, names = column_names)"
      ],
      "execution_count": 3,
      "outputs": []
    },
    {
      "cell_type": "code",
      "metadata": {
        "colab": {
          "base_uri": "https://localhost:8080/",
          "height": 236
        },
        "id": "ExmXsqTK9PDY",
        "outputId": "caadf518-34e0-4e4d-a49c-1a67a95ddc29"
      },
      "source": [
        "df.head(5)\n",
        "\n",
        "# Nota: Tomar las variables como numéricas (no categóricas)"
      ],
      "execution_count": 9,
      "outputs": [
        {
          "output_type": "execute_result",
          "data": {
            "text/html": [
              "<div>\n",
              "<style scoped>\n",
              "    .dataframe tbody tr th:only-of-type {\n",
              "        vertical-align: middle;\n",
              "    }\n",
              "\n",
              "    .dataframe tbody tr th {\n",
              "        vertical-align: top;\n",
              "    }\n",
              "\n",
              "    .dataframe thead th {\n",
              "        text-align: right;\n",
              "    }\n",
              "</style>\n",
              "<table border=\"1\" class=\"dataframe\">\n",
              "  <thead>\n",
              "    <tr style=\"text-align: right;\">\n",
              "      <th></th>\n",
              "      <th>clump_thicknes</th>\n",
              "      <th>cell_size</th>\n",
              "      <th>cell_shape</th>\n",
              "      <th>adhesion</th>\n",
              "      <th>epithelial_cell_size</th>\n",
              "      <th>nuclei</th>\n",
              "      <th>chromatin</th>\n",
              "      <th>nucleoli</th>\n",
              "      <th>mitoses</th>\n",
              "      <th>target</th>\n",
              "    </tr>\n",
              "    <tr>\n",
              "      <th>Id</th>\n",
              "      <th></th>\n",
              "      <th></th>\n",
              "      <th></th>\n",
              "      <th></th>\n",
              "      <th></th>\n",
              "      <th></th>\n",
              "      <th></th>\n",
              "      <th></th>\n",
              "      <th></th>\n",
              "      <th></th>\n",
              "    </tr>\n",
              "  </thead>\n",
              "  <tbody>\n",
              "    <tr>\n",
              "      <th>1000025</th>\n",
              "      <td>5</td>\n",
              "      <td>1</td>\n",
              "      <td>1</td>\n",
              "      <td>1</td>\n",
              "      <td>2</td>\n",
              "      <td>1</td>\n",
              "      <td>3</td>\n",
              "      <td>1</td>\n",
              "      <td>1</td>\n",
              "      <td>2</td>\n",
              "    </tr>\n",
              "    <tr>\n",
              "      <th>1002945</th>\n",
              "      <td>5</td>\n",
              "      <td>4</td>\n",
              "      <td>4</td>\n",
              "      <td>5</td>\n",
              "      <td>7</td>\n",
              "      <td>10</td>\n",
              "      <td>3</td>\n",
              "      <td>2</td>\n",
              "      <td>1</td>\n",
              "      <td>2</td>\n",
              "    </tr>\n",
              "    <tr>\n",
              "      <th>1015425</th>\n",
              "      <td>3</td>\n",
              "      <td>1</td>\n",
              "      <td>1</td>\n",
              "      <td>1</td>\n",
              "      <td>2</td>\n",
              "      <td>2</td>\n",
              "      <td>3</td>\n",
              "      <td>1</td>\n",
              "      <td>1</td>\n",
              "      <td>2</td>\n",
              "    </tr>\n",
              "    <tr>\n",
              "      <th>1016277</th>\n",
              "      <td>6</td>\n",
              "      <td>8</td>\n",
              "      <td>8</td>\n",
              "      <td>1</td>\n",
              "      <td>3</td>\n",
              "      <td>4</td>\n",
              "      <td>3</td>\n",
              "      <td>7</td>\n",
              "      <td>1</td>\n",
              "      <td>2</td>\n",
              "    </tr>\n",
              "    <tr>\n",
              "      <th>1017023</th>\n",
              "      <td>4</td>\n",
              "      <td>1</td>\n",
              "      <td>1</td>\n",
              "      <td>3</td>\n",
              "      <td>2</td>\n",
              "      <td>1</td>\n",
              "      <td>3</td>\n",
              "      <td>1</td>\n",
              "      <td>1</td>\n",
              "      <td>2</td>\n",
              "    </tr>\n",
              "  </tbody>\n",
              "</table>\n",
              "</div>"
            ],
            "text/plain": [
              "         clump_thicknes  cell_size  cell_shape  ...  nucleoli  mitoses target\n",
              "Id                                              ...                          \n",
              "1000025               5          1           1  ...         1        1      2\n",
              "1002945               5          4           4  ...         2        1      2\n",
              "1015425               3          1           1  ...         1        1      2\n",
              "1016277               6          8           8  ...         7        1      2\n",
              "1017023               4          1           1  ...         1        1      2\n",
              "\n",
              "[5 rows x 10 columns]"
            ]
          },
          "metadata": {},
          "execution_count": 9
        }
      ]
    },
    {
      "cell_type": "code",
      "metadata": {
        "id": "e9TlowBa9Noe"
      },
      "source": [
        "# Dejamos como índice la columna ID\n",
        "df.set_index(\"Id\", inplace = True)"
      ],
      "execution_count": 5,
      "outputs": []
    },
    {
      "cell_type": "code",
      "metadata": {
        "colab": {
          "base_uri": "https://localhost:8080/",
          "height": 454
        },
        "id": "e17MoNHayprX",
        "outputId": "ad477a26-9630-4cf8-ea81-84f9da614a48"
      },
      "source": [
        "df"
      ],
      "execution_count": 7,
      "outputs": [
        {
          "output_type": "execute_result",
          "data": {
            "text/html": [
              "<div>\n",
              "<style scoped>\n",
              "    .dataframe tbody tr th:only-of-type {\n",
              "        vertical-align: middle;\n",
              "    }\n",
              "\n",
              "    .dataframe tbody tr th {\n",
              "        vertical-align: top;\n",
              "    }\n",
              "\n",
              "    .dataframe thead th {\n",
              "        text-align: right;\n",
              "    }\n",
              "</style>\n",
              "<table border=\"1\" class=\"dataframe\">\n",
              "  <thead>\n",
              "    <tr style=\"text-align: right;\">\n",
              "      <th></th>\n",
              "      <th>clump_thicknes</th>\n",
              "      <th>cell_size</th>\n",
              "      <th>cell_shape</th>\n",
              "      <th>adhesion</th>\n",
              "      <th>epithelial_cell_size</th>\n",
              "      <th>nuclei</th>\n",
              "      <th>chromatin</th>\n",
              "      <th>nucleoli</th>\n",
              "      <th>mitoses</th>\n",
              "      <th>target</th>\n",
              "    </tr>\n",
              "    <tr>\n",
              "      <th>Id</th>\n",
              "      <th></th>\n",
              "      <th></th>\n",
              "      <th></th>\n",
              "      <th></th>\n",
              "      <th></th>\n",
              "      <th></th>\n",
              "      <th></th>\n",
              "      <th></th>\n",
              "      <th></th>\n",
              "      <th></th>\n",
              "    </tr>\n",
              "  </thead>\n",
              "  <tbody>\n",
              "    <tr>\n",
              "      <th>1000025</th>\n",
              "      <td>5</td>\n",
              "      <td>1</td>\n",
              "      <td>1</td>\n",
              "      <td>1</td>\n",
              "      <td>2</td>\n",
              "      <td>1</td>\n",
              "      <td>3</td>\n",
              "      <td>1</td>\n",
              "      <td>1</td>\n",
              "      <td>2</td>\n",
              "    </tr>\n",
              "    <tr>\n",
              "      <th>1002945</th>\n",
              "      <td>5</td>\n",
              "      <td>4</td>\n",
              "      <td>4</td>\n",
              "      <td>5</td>\n",
              "      <td>7</td>\n",
              "      <td>10</td>\n",
              "      <td>3</td>\n",
              "      <td>2</td>\n",
              "      <td>1</td>\n",
              "      <td>2</td>\n",
              "    </tr>\n",
              "    <tr>\n",
              "      <th>1015425</th>\n",
              "      <td>3</td>\n",
              "      <td>1</td>\n",
              "      <td>1</td>\n",
              "      <td>1</td>\n",
              "      <td>2</td>\n",
              "      <td>2</td>\n",
              "      <td>3</td>\n",
              "      <td>1</td>\n",
              "      <td>1</td>\n",
              "      <td>2</td>\n",
              "    </tr>\n",
              "    <tr>\n",
              "      <th>1016277</th>\n",
              "      <td>6</td>\n",
              "      <td>8</td>\n",
              "      <td>8</td>\n",
              "      <td>1</td>\n",
              "      <td>3</td>\n",
              "      <td>4</td>\n",
              "      <td>3</td>\n",
              "      <td>7</td>\n",
              "      <td>1</td>\n",
              "      <td>2</td>\n",
              "    </tr>\n",
              "    <tr>\n",
              "      <th>1017023</th>\n",
              "      <td>4</td>\n",
              "      <td>1</td>\n",
              "      <td>1</td>\n",
              "      <td>3</td>\n",
              "      <td>2</td>\n",
              "      <td>1</td>\n",
              "      <td>3</td>\n",
              "      <td>1</td>\n",
              "      <td>1</td>\n",
              "      <td>2</td>\n",
              "    </tr>\n",
              "    <tr>\n",
              "      <th>...</th>\n",
              "      <td>...</td>\n",
              "      <td>...</td>\n",
              "      <td>...</td>\n",
              "      <td>...</td>\n",
              "      <td>...</td>\n",
              "      <td>...</td>\n",
              "      <td>...</td>\n",
              "      <td>...</td>\n",
              "      <td>...</td>\n",
              "      <td>...</td>\n",
              "    </tr>\n",
              "    <tr>\n",
              "      <th>776715</th>\n",
              "      <td>3</td>\n",
              "      <td>1</td>\n",
              "      <td>1</td>\n",
              "      <td>1</td>\n",
              "      <td>3</td>\n",
              "      <td>2</td>\n",
              "      <td>1</td>\n",
              "      <td>1</td>\n",
              "      <td>1</td>\n",
              "      <td>2</td>\n",
              "    </tr>\n",
              "    <tr>\n",
              "      <th>841769</th>\n",
              "      <td>2</td>\n",
              "      <td>1</td>\n",
              "      <td>1</td>\n",
              "      <td>1</td>\n",
              "      <td>2</td>\n",
              "      <td>1</td>\n",
              "      <td>1</td>\n",
              "      <td>1</td>\n",
              "      <td>1</td>\n",
              "      <td>2</td>\n",
              "    </tr>\n",
              "    <tr>\n",
              "      <th>888820</th>\n",
              "      <td>5</td>\n",
              "      <td>10</td>\n",
              "      <td>10</td>\n",
              "      <td>3</td>\n",
              "      <td>7</td>\n",
              "      <td>3</td>\n",
              "      <td>8</td>\n",
              "      <td>10</td>\n",
              "      <td>2</td>\n",
              "      <td>4</td>\n",
              "    </tr>\n",
              "    <tr>\n",
              "      <th>897471</th>\n",
              "      <td>4</td>\n",
              "      <td>8</td>\n",
              "      <td>6</td>\n",
              "      <td>4</td>\n",
              "      <td>3</td>\n",
              "      <td>4</td>\n",
              "      <td>10</td>\n",
              "      <td>6</td>\n",
              "      <td>1</td>\n",
              "      <td>4</td>\n",
              "    </tr>\n",
              "    <tr>\n",
              "      <th>897471</th>\n",
              "      <td>4</td>\n",
              "      <td>8</td>\n",
              "      <td>8</td>\n",
              "      <td>5</td>\n",
              "      <td>4</td>\n",
              "      <td>5</td>\n",
              "      <td>10</td>\n",
              "      <td>4</td>\n",
              "      <td>1</td>\n",
              "      <td>4</td>\n",
              "    </tr>\n",
              "  </tbody>\n",
              "</table>\n",
              "<p>699 rows × 10 columns</p>\n",
              "</div>"
            ],
            "text/plain": [
              "         clump_thicknes  cell_size  cell_shape  ...  nucleoli  mitoses target\n",
              "Id                                              ...                          \n",
              "1000025               5          1           1  ...         1        1      2\n",
              "1002945               5          4           4  ...         2        1      2\n",
              "1015425               3          1           1  ...         1        1      2\n",
              "1016277               6          8           8  ...         7        1      2\n",
              "1017023               4          1           1  ...         1        1      2\n",
              "...                 ...        ...         ...  ...       ...      ...    ...\n",
              "776715                3          1           1  ...         1        1      2\n",
              "841769                2          1           1  ...         1        1      2\n",
              "888820                5         10          10  ...        10        2      4\n",
              "897471                4          8           6  ...         6        1      4\n",
              "897471                4          8           8  ...         4        1      4\n",
              "\n",
              "[699 rows x 10 columns]"
            ]
          },
          "metadata": {},
          "execution_count": 7
        }
      ]
    },
    {
      "cell_type": "code",
      "metadata": {
        "id": "Yi9OOBS-fYjT"
      },
      "source": [
        "df[\"nuclei\"].replace('?', np.nan, inplace = True)"
      ],
      "execution_count": 10,
      "outputs": []
    },
    {
      "cell_type": "code",
      "metadata": {
        "id": "fNqsoUyfDZ2E"
      },
      "source": [
        "# En el dataset las clases son 2 y 4 que representan Benigno y Maligno, vamos a reemplazarlas por 0 y 1 por simplicidad.\n",
        "df[\"target\"].replace(2, 0, inplace = True)\n",
        "df[\"target\"].replace(4, 1, inplace = True)\n",
        "\n",
        "# 2 era cancer benigno (ahora es 0)\n",
        "# 4 era cancer maligno (ahora es 1)"
      ],
      "execution_count": 11,
      "outputs": []
    },
    {
      "cell_type": "code",
      "metadata": {
        "colab": {
          "base_uri": "https://localhost:8080/",
          "height": 454
        },
        "id": "24KNT_hDfxSc",
        "outputId": "d3936903-b667-4e45-fd4e-81d875e76a68"
      },
      "source": [
        "df.head(100)\n"
      ],
      "execution_count": 97,
      "outputs": [
        {
          "output_type": "execute_result",
          "data": {
            "text/html": [
              "<div>\n",
              "<style scoped>\n",
              "    .dataframe tbody tr th:only-of-type {\n",
              "        vertical-align: middle;\n",
              "    }\n",
              "\n",
              "    .dataframe tbody tr th {\n",
              "        vertical-align: top;\n",
              "    }\n",
              "\n",
              "    .dataframe thead th {\n",
              "        text-align: right;\n",
              "    }\n",
              "</style>\n",
              "<table border=\"1\" class=\"dataframe\">\n",
              "  <thead>\n",
              "    <tr style=\"text-align: right;\">\n",
              "      <th></th>\n",
              "      <th>clump_thicknes</th>\n",
              "      <th>cell_size</th>\n",
              "      <th>cell_shape</th>\n",
              "      <th>adhesion</th>\n",
              "      <th>epithelial_cell_size</th>\n",
              "      <th>nuclei</th>\n",
              "      <th>chromatin</th>\n",
              "      <th>nucleoli</th>\n",
              "      <th>mitoses</th>\n",
              "      <th>target</th>\n",
              "    </tr>\n",
              "    <tr>\n",
              "      <th>Id</th>\n",
              "      <th></th>\n",
              "      <th></th>\n",
              "      <th></th>\n",
              "      <th></th>\n",
              "      <th></th>\n",
              "      <th></th>\n",
              "      <th></th>\n",
              "      <th></th>\n",
              "      <th></th>\n",
              "      <th></th>\n",
              "    </tr>\n",
              "  </thead>\n",
              "  <tbody>\n",
              "    <tr>\n",
              "      <th>1000025</th>\n",
              "      <td>5</td>\n",
              "      <td>1</td>\n",
              "      <td>1</td>\n",
              "      <td>1</td>\n",
              "      <td>2</td>\n",
              "      <td>1</td>\n",
              "      <td>3</td>\n",
              "      <td>1</td>\n",
              "      <td>1</td>\n",
              "      <td>0</td>\n",
              "    </tr>\n",
              "    <tr>\n",
              "      <th>1002945</th>\n",
              "      <td>5</td>\n",
              "      <td>4</td>\n",
              "      <td>4</td>\n",
              "      <td>5</td>\n",
              "      <td>7</td>\n",
              "      <td>10</td>\n",
              "      <td>3</td>\n",
              "      <td>2</td>\n",
              "      <td>1</td>\n",
              "      <td>0</td>\n",
              "    </tr>\n",
              "    <tr>\n",
              "      <th>1015425</th>\n",
              "      <td>3</td>\n",
              "      <td>1</td>\n",
              "      <td>1</td>\n",
              "      <td>1</td>\n",
              "      <td>2</td>\n",
              "      <td>2</td>\n",
              "      <td>3</td>\n",
              "      <td>1</td>\n",
              "      <td>1</td>\n",
              "      <td>0</td>\n",
              "    </tr>\n",
              "    <tr>\n",
              "      <th>1016277</th>\n",
              "      <td>6</td>\n",
              "      <td>8</td>\n",
              "      <td>8</td>\n",
              "      <td>1</td>\n",
              "      <td>3</td>\n",
              "      <td>4</td>\n",
              "      <td>3</td>\n",
              "      <td>7</td>\n",
              "      <td>1</td>\n",
              "      <td>0</td>\n",
              "    </tr>\n",
              "    <tr>\n",
              "      <th>1017023</th>\n",
              "      <td>4</td>\n",
              "      <td>1</td>\n",
              "      <td>1</td>\n",
              "      <td>3</td>\n",
              "      <td>2</td>\n",
              "      <td>1</td>\n",
              "      <td>3</td>\n",
              "      <td>1</td>\n",
              "      <td>1</td>\n",
              "      <td>0</td>\n",
              "    </tr>\n",
              "    <tr>\n",
              "      <th>...</th>\n",
              "      <td>...</td>\n",
              "      <td>...</td>\n",
              "      <td>...</td>\n",
              "      <td>...</td>\n",
              "      <td>...</td>\n",
              "      <td>...</td>\n",
              "      <td>...</td>\n",
              "      <td>...</td>\n",
              "      <td>...</td>\n",
              "      <td>...</td>\n",
              "    </tr>\n",
              "    <tr>\n",
              "      <th>1164066</th>\n",
              "      <td>1</td>\n",
              "      <td>1</td>\n",
              "      <td>1</td>\n",
              "      <td>1</td>\n",
              "      <td>2</td>\n",
              "      <td>1</td>\n",
              "      <td>3</td>\n",
              "      <td>1</td>\n",
              "      <td>1</td>\n",
              "      <td>0</td>\n",
              "    </tr>\n",
              "    <tr>\n",
              "      <th>1165297</th>\n",
              "      <td>2</td>\n",
              "      <td>1</td>\n",
              "      <td>1</td>\n",
              "      <td>2</td>\n",
              "      <td>2</td>\n",
              "      <td>1</td>\n",
              "      <td>1</td>\n",
              "      <td>1</td>\n",
              "      <td>1</td>\n",
              "      <td>0</td>\n",
              "    </tr>\n",
              "    <tr>\n",
              "      <th>1165790</th>\n",
              "      <td>5</td>\n",
              "      <td>1</td>\n",
              "      <td>1</td>\n",
              "      <td>1</td>\n",
              "      <td>2</td>\n",
              "      <td>1</td>\n",
              "      <td>3</td>\n",
              "      <td>1</td>\n",
              "      <td>1</td>\n",
              "      <td>0</td>\n",
              "    </tr>\n",
              "    <tr>\n",
              "      <th>1165926</th>\n",
              "      <td>9</td>\n",
              "      <td>6</td>\n",
              "      <td>9</td>\n",
              "      <td>2</td>\n",
              "      <td>10</td>\n",
              "      <td>6</td>\n",
              "      <td>2</td>\n",
              "      <td>9</td>\n",
              "      <td>10</td>\n",
              "      <td>1</td>\n",
              "    </tr>\n",
              "    <tr>\n",
              "      <th>1166630</th>\n",
              "      <td>7</td>\n",
              "      <td>5</td>\n",
              "      <td>6</td>\n",
              "      <td>10</td>\n",
              "      <td>5</td>\n",
              "      <td>10</td>\n",
              "      <td>7</td>\n",
              "      <td>9</td>\n",
              "      <td>4</td>\n",
              "      <td>1</td>\n",
              "    </tr>\n",
              "  </tbody>\n",
              "</table>\n",
              "<p>100 rows × 10 columns</p>\n",
              "</div>"
            ],
            "text/plain": [
              "         clump_thicknes  cell_size  cell_shape  ...  nucleoli  mitoses  target\n",
              "Id                                              ...                           \n",
              "1000025               5          1           1  ...         1        1       0\n",
              "1002945               5          4           4  ...         2        1       0\n",
              "1015425               3          1           1  ...         1        1       0\n",
              "1016277               6          8           8  ...         7        1       0\n",
              "1017023               4          1           1  ...         1        1       0\n",
              "...                 ...        ...         ...  ...       ...      ...     ...\n",
              "1164066               1          1           1  ...         1        1       0\n",
              "1165297               2          1           1  ...         1        1       0\n",
              "1165790               5          1           1  ...         1        1       0\n",
              "1165926               9          6           9  ...         9       10       1\n",
              "1166630               7          5           6  ...         9        4       1\n",
              "\n",
              "[100 rows x 10 columns]"
            ]
          },
          "metadata": {},
          "execution_count": 97
        }
      ]
    },
    {
      "cell_type": "code",
      "metadata": {
        "id": "RJNhkH_Tgyz6"
      },
      "source": [
        "# Ya con esto separamos variables predictoras por un lado, y target por el otro\n",
        "\n",
        "x = df.drop(columns = \"target\")\n",
        "y = df[\"target\"]"
      ],
      "execution_count": 14,
      "outputs": []
    },
    {
      "cell_type": "markdown",
      "metadata": {
        "id": "5b_R-hFL9xJV"
      },
      "source": [
        "##Ejercicios\n",
        "\n",
        "\n",
        "**A - Análisis Exploratorio**\n",
        "\n",
        "Realice un análisis exploratorio de los datos para contestar mínimamente lo siguiente:\n",
        "\n",
        "1.   ¿Cuantos registros tiene el dataset? \n",
        "2.   ¿Cuantos features existen y de que tipo son? ¿Habría que modificar alguno?\n",
        "3.   ¿Cuantos registros hay Benignos (0) y Malignos (1)?\n",
        "4. ¿Existen variables correlacionadas? Si es así, realice las modificaciones que crea pertinente\n",
        "5. ¿Es necesario utilizar one hot enconding? ¿Por qué?\n",
        "6. ¿Es necesario realizar feature scaling? ¿Por qué?\n",
        "7. ¿La media de las variables es diferente según si el registro es bengino o maligno?\n",
        "8. Grafique las variables separando registros bengignos vs malignos\n",
        "\n",
        "\n",
        "\n",
        "\n",
        "**B - Arbol de decisión**\n",
        "\n",
        "Cree un Árbol de Decisión para este set de datos que alcance al menos 93% de precisión. \n",
        "Recuerde realizar los siguientes pasos:\n",
        "- Separar los datos en conjuntos de entrenamiento y test\n",
        "- Entrenar el modelo\n",
        "- Evaluar el modelo\n",
        "- Graficar el arbol\n",
        "\n",
        "Explique por qué seleccionó el modelo final argumentando lo observado al modificar los distintos párametros del algoritmo, puede poner como ejemplo otros árboles.\n",
        "\n",
        "\n",
        "**Formato de entrega**: esta misma notebook en formato .ipynb, cambiar el nombre por ApellidoNombre1_ApellidoNombre2_Tarea_1.\n",
        "Es importante que la notebook pueda ejecutarse sin problemas al seleccionar 'Ejecutar todo'.\n",
        "\n",
        "\n",
        "**Plazo de entrega**: hasta el 30/09 por Aulas\n",
        "\n",
        "\n",
        "\n",
        "\n",
        "\n",
        "\n"
      ]
    },
    {
      "cell_type": "markdown",
      "metadata": {
        "id": "aaLO69qSI-Cg"
      },
      "source": [
        "## A - Análisis Exploratorio"
      ]
    },
    {
      "cell_type": "markdown",
      "metadata": {
        "id": "sAtmyzi8Gb_O"
      },
      "source": [
        "**¿Cuantos registros tiene el dataset?**"
      ]
    },
    {
      "cell_type": "code",
      "metadata": {
        "id": "FK7ENhfaJG_3",
        "colab": {
          "base_uri": "https://localhost:8080/"
        },
        "outputId": "62ff01ee-7bd7-47cf-c11d-3738d786452b"
      },
      "source": [
        "len(df)"
      ],
      "execution_count": 15,
      "outputs": [
        {
          "output_type": "execute_result",
          "data": {
            "text/plain": [
              "699"
            ]
          },
          "metadata": {},
          "execution_count": 15
        }
      ]
    },
    {
      "cell_type": "markdown",
      "metadata": {
        "id": "PHXwReHfG41F"
      },
      "source": [
        "**¿Cuantos features existen y de que tipo son? ¿Habría que modificar alguno?**\n",
        "\n",
        "---\n",
        "\n"
      ]
    },
    {
      "cell_type": "code",
      "metadata": {
        "id": "N6HNKdKzJHLx",
        "colab": {
          "base_uri": "https://localhost:8080/"
        },
        "outputId": "7aa03132-3202-4a2c-d96b-d2506d9e9582"
      },
      "source": [
        "df.info()"
      ],
      "execution_count": 16,
      "outputs": [
        {
          "output_type": "stream",
          "name": "stdout",
          "text": [
            "<class 'pandas.core.frame.DataFrame'>\n",
            "Int64Index: 699 entries, 1000025 to 897471\n",
            "Data columns (total 10 columns):\n",
            " #   Column                Non-Null Count  Dtype \n",
            "---  ------                --------------  ----- \n",
            " 0   clump_thicknes        699 non-null    int64 \n",
            " 1   cell_size             699 non-null    int64 \n",
            " 2   cell_shape            699 non-null    int64 \n",
            " 3   adhesion              699 non-null    int64 \n",
            " 4   epithelial_cell_size  699 non-null    int64 \n",
            " 5   nuclei                683 non-null    object\n",
            " 6   chromatin             699 non-null    int64 \n",
            " 7   nucleoli              699 non-null    int64 \n",
            " 8   mitoses               699 non-null    int64 \n",
            " 9   target                699 non-null    int64 \n",
            "dtypes: int64(9), object(1)\n",
            "memory usage: 60.1+ KB\n"
          ]
        }
      ]
    },
    {
      "cell_type": "markdown",
      "metadata": {
        "id": "vTqnltq3HrU9"
      },
      "source": [
        "**\"Nota: Tomar las variables como numéricas (no categóricas)\"**\n",
        "En base a lo solicitado y a los datos de la feature 'nuclei' es que esta debe ser modificada a numérica. Modificamos está columna cambiando los NAN por el promedio y luego convirtiendo la columna a int64.\n",
        "\n"
      ]
    },
    {
      "cell_type": "code",
      "metadata": {
        "colab": {
          "base_uri": "https://localhost:8080/"
        },
        "id": "xGCA3ZZVHEd2",
        "outputId": "02c407c8-0ffb-4a96-aff5-78b8234402e7"
      },
      "source": [
        "df['nuclei'] = df['nuclei'].fillna(df['nuclei'].mean())\n",
        "#df['nuclei'] = df['nuclei'].fillna(0)\n",
        "df['nuclei'] = df['nuclei'].astype(int)\n",
        "df.info()"
      ],
      "execution_count": 55,
      "outputs": [
        {
          "output_type": "stream",
          "name": "stdout",
          "text": [
            "<class 'pandas.core.frame.DataFrame'>\n",
            "Int64Index: 699 entries, 1000025 to 897471\n",
            "Data columns (total 10 columns):\n",
            " #   Column                Non-Null Count  Dtype\n",
            "---  ------                --------------  -----\n",
            " 0   clump_thicknes        699 non-null    int64\n",
            " 1   cell_size             699 non-null    int64\n",
            " 2   cell_shape            699 non-null    int64\n",
            " 3   adhesion              699 non-null    int64\n",
            " 4   epithelial_cell_size  699 non-null    int64\n",
            " 5   nuclei                699 non-null    int64\n",
            " 6   chromatin             699 non-null    int64\n",
            " 7   nucleoli              699 non-null    int64\n",
            " 8   mitoses               699 non-null    int64\n",
            " 9   target                699 non-null    int64\n",
            "dtypes: int64(10)\n",
            "memory usage: 60.1 KB\n"
          ]
        }
      ]
    },
    {
      "cell_type": "markdown",
      "metadata": {
        "id": "05ZrurshQNQ4"
      },
      "source": [
        "**¿Cuantos registros hay Benignos (0) y Malignos (1)?**"
      ]
    },
    {
      "cell_type": "code",
      "metadata": {
        "colab": {
          "base_uri": "https://localhost:8080/"
        },
        "id": "crxQyk9uQLbY",
        "outputId": "347cac86-5685-41f8-efaa-671e3ae1acbe"
      },
      "source": [
        "print('Cantidad de benignos: ' + ((str)(len(df.loc[df['target'] == 0]))))\n",
        "print('Cantidad de malignos: ' + ((str)(len(df.loc[df['target'] == 1]))))\n"
      ],
      "execution_count": 72,
      "outputs": [
        {
          "output_type": "stream",
          "name": "stdout",
          "text": [
            "Cantidad de benignos: 458\n",
            "Cantidad de malignos: 241\n"
          ]
        },
        {
          "output_type": "execute_result",
          "data": {
            "text/plain": [
              "699"
            ]
          },
          "metadata": {},
          "execution_count": 72
        }
      ]
    },
    {
      "cell_type": "markdown",
      "metadata": {
        "id": "InqwfHBfSF8h"
      },
      "source": [
        "**¿Existen variables correlacionadas? Si es así, realice las modificaciones que crea pertinente**"
      ]
    },
    {
      "cell_type": "code",
      "metadata": {
        "colab": {
          "base_uri": "https://localhost:8080/",
          "height": 362
        },
        "id": "E97ouGBoSFHA",
        "outputId": "89f4a58c-5526-436e-a22c-64e053b846fc"
      },
      "source": [
        "d_cor = df.corr()\n",
        "d_cor"
      ],
      "execution_count": 73,
      "outputs": [
        {
          "output_type": "execute_result",
          "data": {
            "text/html": [
              "<div>\n",
              "<style scoped>\n",
              "    .dataframe tbody tr th:only-of-type {\n",
              "        vertical-align: middle;\n",
              "    }\n",
              "\n",
              "    .dataframe tbody tr th {\n",
              "        vertical-align: top;\n",
              "    }\n",
              "\n",
              "    .dataframe thead th {\n",
              "        text-align: right;\n",
              "    }\n",
              "</style>\n",
              "<table border=\"1\" class=\"dataframe\">\n",
              "  <thead>\n",
              "    <tr style=\"text-align: right;\">\n",
              "      <th></th>\n",
              "      <th>clump_thicknes</th>\n",
              "      <th>cell_size</th>\n",
              "      <th>cell_shape</th>\n",
              "      <th>adhesion</th>\n",
              "      <th>epithelial_cell_size</th>\n",
              "      <th>nuclei</th>\n",
              "      <th>chromatin</th>\n",
              "      <th>nucleoli</th>\n",
              "      <th>mitoses</th>\n",
              "      <th>target</th>\n",
              "    </tr>\n",
              "  </thead>\n",
              "  <tbody>\n",
              "    <tr>\n",
              "      <th>clump_thicknes</th>\n",
              "      <td>1.000000</td>\n",
              "      <td>0.644913</td>\n",
              "      <td>0.654589</td>\n",
              "      <td>0.486356</td>\n",
              "      <td>0.521816</td>\n",
              "      <td>0.588433</td>\n",
              "      <td>0.558428</td>\n",
              "      <td>0.535835</td>\n",
              "      <td>0.350034</td>\n",
              "      <td>0.716001</td>\n",
              "    </tr>\n",
              "    <tr>\n",
              "      <th>cell_size</th>\n",
              "      <td>0.644913</td>\n",
              "      <td>1.000000</td>\n",
              "      <td>0.906882</td>\n",
              "      <td>0.705582</td>\n",
              "      <td>0.751799</td>\n",
              "      <td>0.687417</td>\n",
              "      <td>0.755721</td>\n",
              "      <td>0.722865</td>\n",
              "      <td>0.458693</td>\n",
              "      <td>0.817904</td>\n",
              "    </tr>\n",
              "    <tr>\n",
              "      <th>cell_shape</th>\n",
              "      <td>0.654589</td>\n",
              "      <td>0.906882</td>\n",
              "      <td>1.000000</td>\n",
              "      <td>0.683079</td>\n",
              "      <td>0.719668</td>\n",
              "      <td>0.709812</td>\n",
              "      <td>0.735948</td>\n",
              "      <td>0.719446</td>\n",
              "      <td>0.438911</td>\n",
              "      <td>0.818934</td>\n",
              "    </tr>\n",
              "    <tr>\n",
              "      <th>adhesion</th>\n",
              "      <td>0.486356</td>\n",
              "      <td>0.705582</td>\n",
              "      <td>0.683079</td>\n",
              "      <td>1.000000</td>\n",
              "      <td>0.599599</td>\n",
              "      <td>0.666086</td>\n",
              "      <td>0.666715</td>\n",
              "      <td>0.603352</td>\n",
              "      <td>0.417633</td>\n",
              "      <td>0.696800</td>\n",
              "    </tr>\n",
              "    <tr>\n",
              "      <th>epithelial_cell_size</th>\n",
              "      <td>0.521816</td>\n",
              "      <td>0.751799</td>\n",
              "      <td>0.719668</td>\n",
              "      <td>0.599599</td>\n",
              "      <td>1.000000</td>\n",
              "      <td>0.582331</td>\n",
              "      <td>0.616102</td>\n",
              "      <td>0.628881</td>\n",
              "      <td>0.479101</td>\n",
              "      <td>0.682785</td>\n",
              "    </tr>\n",
              "    <tr>\n",
              "      <th>nuclei</th>\n",
              "      <td>0.588433</td>\n",
              "      <td>0.687417</td>\n",
              "      <td>0.709812</td>\n",
              "      <td>0.666086</td>\n",
              "      <td>0.582331</td>\n",
              "      <td>1.000000</td>\n",
              "      <td>0.676167</td>\n",
              "      <td>0.577347</td>\n",
              "      <td>0.339844</td>\n",
              "      <td>0.817442</td>\n",
              "    </tr>\n",
              "    <tr>\n",
              "      <th>chromatin</th>\n",
              "      <td>0.558428</td>\n",
              "      <td>0.755721</td>\n",
              "      <td>0.735948</td>\n",
              "      <td>0.666715</td>\n",
              "      <td>0.616102</td>\n",
              "      <td>0.676167</td>\n",
              "      <td>1.000000</td>\n",
              "      <td>0.665878</td>\n",
              "      <td>0.344169</td>\n",
              "      <td>0.756616</td>\n",
              "    </tr>\n",
              "    <tr>\n",
              "      <th>nucleoli</th>\n",
              "      <td>0.535835</td>\n",
              "      <td>0.722865</td>\n",
              "      <td>0.719446</td>\n",
              "      <td>0.603352</td>\n",
              "      <td>0.628881</td>\n",
              "      <td>0.577347</td>\n",
              "      <td>0.665878</td>\n",
              "      <td>1.000000</td>\n",
              "      <td>0.428336</td>\n",
              "      <td>0.712244</td>\n",
              "    </tr>\n",
              "    <tr>\n",
              "      <th>mitoses</th>\n",
              "      <td>0.350034</td>\n",
              "      <td>0.458693</td>\n",
              "      <td>0.438911</td>\n",
              "      <td>0.417633</td>\n",
              "      <td>0.479101</td>\n",
              "      <td>0.339844</td>\n",
              "      <td>0.344169</td>\n",
              "      <td>0.428336</td>\n",
              "      <td>1.000000</td>\n",
              "      <td>0.423170</td>\n",
              "    </tr>\n",
              "    <tr>\n",
              "      <th>target</th>\n",
              "      <td>0.716001</td>\n",
              "      <td>0.817904</td>\n",
              "      <td>0.818934</td>\n",
              "      <td>0.696800</td>\n",
              "      <td>0.682785</td>\n",
              "      <td>0.817442</td>\n",
              "      <td>0.756616</td>\n",
              "      <td>0.712244</td>\n",
              "      <td>0.423170</td>\n",
              "      <td>1.000000</td>\n",
              "    </tr>\n",
              "  </tbody>\n",
              "</table>\n",
              "</div>"
            ],
            "text/plain": [
              "                      clump_thicknes  cell_size  ...   mitoses    target\n",
              "clump_thicknes              1.000000   0.644913  ...  0.350034  0.716001\n",
              "cell_size                   0.644913   1.000000  ...  0.458693  0.817904\n",
              "cell_shape                  0.654589   0.906882  ...  0.438911  0.818934\n",
              "adhesion                    0.486356   0.705582  ...  0.417633  0.696800\n",
              "epithelial_cell_size        0.521816   0.751799  ...  0.479101  0.682785\n",
              "nuclei                      0.588433   0.687417  ...  0.339844  0.817442\n",
              "chromatin                   0.558428   0.755721  ...  0.344169  0.756616\n",
              "nucleoli                    0.535835   0.722865  ...  0.428336  0.712244\n",
              "mitoses                     0.350034   0.458693  ...  1.000000  0.423170\n",
              "target                      0.716001   0.817904  ...  0.423170  1.000000\n",
              "\n",
              "[10 rows x 10 columns]"
            ]
          },
          "metadata": {},
          "execution_count": 73
        }
      ]
    },
    {
      "cell_type": "code",
      "metadata": {
        "colab": {
          "base_uri": "https://localhost:8080/",
          "height": 89
        },
        "id": "ioD9_0kvWaMq",
        "outputId": "4b1e7094-1c41-4ea0-85d1-36a08ee89a25"
      },
      "source": [
        "sns.palplot(sns.diverging_palette(90, 90, sep = 1, n = 20))"
      ],
      "execution_count": 77,
      "outputs": [
        {
          "output_type": "display_data",
          "data": {
            "image/png": "[encoded data removed]",
            "text/plain": [
              "<Figure size 1440x72 with 1 Axes>"
            ]
          },
          "metadata": {
            "needs_background": "light"
          }
        }
      ]
    },
    {
      "cell_type": "code",
      "metadata": {
        "colab": {
          "base_uri": "https://localhost:8080/",
          "height": 385
        },
        "id": "fJySY8lhW7cK",
        "outputId": "637364c5-bbce-41f7-af8d-49ca5dee9bd3"
      },
      "source": [
        "paletaColores = sns.diverging_palette(0, 100, sep = 10, as_cmap = False)\n",
        "\n",
        "sns.heatmap(df.corr(), annot = True, cmap = paletaColores, center = 0).set_title(\"Mapa de correlación\", fontsize = 16)\n",
        "#df2.plot.scatter(x = 'Age', y = 'Credit_amount')\n"
      ],
      "execution_count": 89,
      "outputs": [
        {
          "output_type": "execute_result",
          "data": {
            "text/plain": [
              "Text(0.5, 1.0, 'Mapa de correlación')"
            ]
          },
          "metadata": {},
          "execution_count": 89
        },
        {
          "output_type": "display_data",
          "data": {
            "image/png": "[encoded data removed]",
            "text/plain": [
              "<Figure size 432x288 with 2 Axes>"
            ]
          },
          "metadata": {
            "needs_background": "light"
          }
        }
      ]
    },
    {
      "cell_type": "markdown",
      "metadata": {
        "id": "rJnVmeroWM9H"
      },
      "source": [
        "Si, existen. Concideramos variables correlacionadas a las que están por encima de 0.68.\n"
      ]
    },
    {
      "cell_type": "code",
      "metadata": {
        "colab": {
          "base_uri": "https://localhost:8080/",
          "height": 299
        },
        "id": "tSYIiG-Peioh",
        "outputId": "cd883100-59c9-475d-a4b6-faafccfd9f1c"
      },
      "source": [
        "df_sin_corr = df\n",
        "df_sin_corr = df_sin_corr.drop(columns=['cell_size', 'cell_shape'])\n",
        "df_sin_corr.corr()\n"
      ],
      "execution_count": 94,
      "outputs": [
        {
          "output_type": "execute_result",
          "data": {
            "text/html": [
              "<div>\n",
              "<style scoped>\n",
              "    .dataframe tbody tr th:only-of-type {\n",
              "        vertical-align: middle;\n",
              "    }\n",
              "\n",
              "    .dataframe tbody tr th {\n",
              "        vertical-align: top;\n",
              "    }\n",
              "\n",
              "    .dataframe thead th {\n",
              "        text-align: right;\n",
              "    }\n",
              "</style>\n",
              "<table border=\"1\" class=\"dataframe\">\n",
              "  <thead>\n",
              "    <tr style=\"text-align: right;\">\n",
              "      <th></th>\n",
              "      <th>clump_thicknes</th>\n",
              "      <th>adhesion</th>\n",
              "      <th>epithelial_cell_size</th>\n",
              "      <th>nuclei</th>\n",
              "      <th>chromatin</th>\n",
              "      <th>nucleoli</th>\n",
              "      <th>mitoses</th>\n",
              "      <th>target</th>\n",
              "    </tr>\n",
              "  </thead>\n",
              "  <tbody>\n",
              "    <tr>\n",
              "      <th>clump_thicknes</th>\n",
              "      <td>1.000000</td>\n",
              "      <td>0.486356</td>\n",
              "      <td>0.521816</td>\n",
              "      <td>0.588433</td>\n",
              "      <td>0.558428</td>\n",
              "      <td>0.535835</td>\n",
              "      <td>0.350034</td>\n",
              "      <td>0.716001</td>\n",
              "    </tr>\n",
              "    <tr>\n",
              "      <th>adhesion</th>\n",
              "      <td>0.486356</td>\n",
              "      <td>1.000000</td>\n",
              "      <td>0.599599</td>\n",
              "      <td>0.666086</td>\n",
              "      <td>0.666715</td>\n",
              "      <td>0.603352</td>\n",
              "      <td>0.417633</td>\n",
              "      <td>0.696800</td>\n",
              "    </tr>\n",
              "    <tr>\n",
              "      <th>epithelial_cell_size</th>\n",
              "      <td>0.521816</td>\n",
              "      <td>0.599599</td>\n",
              "      <td>1.000000</td>\n",
              "      <td>0.582331</td>\n",
              "      <td>0.616102</td>\n",
              "      <td>0.628881</td>\n",
              "      <td>0.479101</td>\n",
              "      <td>0.682785</td>\n",
              "    </tr>\n",
              "    <tr>\n",
              "      <th>nuclei</th>\n",
              "      <td>0.588433</td>\n",
              "      <td>0.666086</td>\n",
              "      <td>0.582331</td>\n",
              "      <td>1.000000</td>\n",
              "      <td>0.676167</td>\n",
              "      <td>0.577347</td>\n",
              "      <td>0.339844</td>\n",
              "      <td>0.817442</td>\n",
              "    </tr>\n",
              "    <tr>\n",
              "      <th>chromatin</th>\n",
              "      <td>0.558428</td>\n",
              "      <td>0.666715</td>\n",
              "      <td>0.616102</td>\n",
              "      <td>0.676167</td>\n",
              "      <td>1.000000</td>\n",
              "      <td>0.665878</td>\n",
              "      <td>0.344169</td>\n",
              "      <td>0.756616</td>\n",
              "    </tr>\n",
              "    <tr>\n",
              "      <th>nucleoli</th>\n",
              "      <td>0.535835</td>\n",
              "      <td>0.603352</td>\n",
              "      <td>0.628881</td>\n",
              "      <td>0.577347</td>\n",
              "      <td>0.665878</td>\n",
              "      <td>1.000000</td>\n",
              "      <td>0.428336</td>\n",
              "      <td>0.712244</td>\n",
              "    </tr>\n",
              "    <tr>\n",
              "      <th>mitoses</th>\n",
              "      <td>0.350034</td>\n",
              "      <td>0.417633</td>\n",
              "      <td>0.479101</td>\n",
              "      <td>0.339844</td>\n",
              "      <td>0.344169</td>\n",
              "      <td>0.428336</td>\n",
              "      <td>1.000000</td>\n",
              "      <td>0.423170</td>\n",
              "    </tr>\n",
              "    <tr>\n",
              "      <th>target</th>\n",
              "      <td>0.716001</td>\n",
              "      <td>0.696800</td>\n",
              "      <td>0.682785</td>\n",
              "      <td>0.817442</td>\n",
              "      <td>0.756616</td>\n",
              "      <td>0.712244</td>\n",
              "      <td>0.423170</td>\n",
              "      <td>1.000000</td>\n",
              "    </tr>\n",
              "  </tbody>\n",
              "</table>\n",
              "</div>"
            ],
            "text/plain": [
              "                      clump_thicknes  adhesion  ...   mitoses    target\n",
              "clump_thicknes              1.000000  0.486356  ...  0.350034  0.716001\n",
              "adhesion                    0.486356  1.000000  ...  0.417633  0.696800\n",
              "epithelial_cell_size        0.521816  0.599599  ...  0.479101  0.682785\n",
              "nuclei                      0.588433  0.666086  ...  0.339844  0.817442\n",
              "chromatin                   0.558428  0.666715  ...  0.344169  0.756616\n",
              "nucleoli                    0.535835  0.603352  ...  0.428336  0.712244\n",
              "mitoses                     0.350034  0.417633  ...  1.000000  0.423170\n",
              "target                      0.716001  0.696800  ...  0.423170  1.000000\n",
              "\n",
              "[8 rows x 8 columns]"
            ]
          },
          "metadata": {},
          "execution_count": 94
        }
      ]
    },
    {
      "cell_type": "code",
      "metadata": {
        "colab": {
          "base_uri": "https://localhost:8080/",
          "height": 385
        },
        "id": "SSsGvB9DfxN2",
        "outputId": "7958ff9e-5051-4d64-e343-a58cbdce0e29"
      },
      "source": [
        "sns.heatmap(df_sin_corr.corr(), annot = True, cmap = paletaColores, center = 0).set_title(\"Nuevo Mapa de correlación\", fontsize = 16)"
      ],
      "execution_count": 96,
      "outputs": [
        {
          "output_type": "execute_result",
          "data": {
            "text/plain": [
              "Text(0.5, 1.0, 'Nuevo Mapa de correlación')"
            ]
          },
          "metadata": {},
          "execution_count": 96
        },
        {
          "output_type": "display_data",
          "data": {
            "image/png": "[encoded data removed]",
            "text/plain": [
              "<Figure size 432x288 with 2 Axes>"
            ]
          },
          "metadata": {
            "needs_background": "light"
          }
        }
      ]
    },
    {
      "cell_type": "markdown",
      "metadata": {
        "id": "JvI9hH3af4nW"
      },
      "source": [
        "Eliminamos las features cell_size y cell_shape que son las que estaban más correlacionadas con el resto de las features. Si bien se ve una correlación entre nuclei y chromatin esta es mínima y por eso no eliminamos ninguna de las 2 features. Tampoco se elimina la feature target es la que se necesita para calcular la eficiencia del algoritmo."
      ]
    },
    {
      "cell_type": "markdown",
      "metadata": {
        "id": "d8CdGm9thukz"
      },
      "source": [
        "**¿Es necesario utilizar one hot enconding? ¿Por qué?**\n",
        "\n",
        "No, porque son todas variables numéricas y el one hot encoding se usa para variables categoricas."
      ]
    },
    {
      "cell_type": "markdown",
      "metadata": {
        "id": "bcHSdcOIh-wD"
      },
      "source": [
        "**¿Es necesario realizar feature scaling? ¿Por qué?**\n",
        "\n"
      ]
    },
    {
      "cell_type": "code",
      "metadata": {
        "colab": {
          "base_uri": "https://localhost:8080/"
        },
        "id": "2LPyOMCSkAZx",
        "outputId": "0ac4b388-0f1c-4b04-fb4f-ace457864dc4"
      },
      "source": [
        "print(df_sin_corr.loc[df_sin_corr['clump_thicknes'] > 10])\n",
        "print(df_sin_corr.loc[df_sin_corr['clump_thicknes'] < 0])\n",
        "print(df_sin_corr.loc[df_sin_corr['adhesion'] > 10])\n",
        "print(df_sin_corr.loc[df_sin_corr['adhesion'] < 0])\n",
        "print(df_sin_corr.loc[df_sin_corr['epithelial_cell_size'] > 10])\n",
        "print(df_sin_corr.loc[df_sin_corr['epithelial_cell_size'] < 0])\n",
        "print(df_sin_corr.loc[df_sin_corr['nuclei'] > 10])\n",
        "print(df_sin_corr.loc[df_sin_corr['nuclei'] < 0])\n",
        "print(df_sin_corr.loc[df_sin_corr['chromatin'] > 10])\n",
        "print(df_sin_corr.loc[df_sin_corr['chromatin'] < 0])\n",
        "print(df_sin_corr.loc[df_sin_corr['nucleoli'] > 10])\n",
        "print(df_sin_corr.loc[df_sin_corr['nucleoli'] < 0])\n",
        "print(df_sin_corr.loc[df_sin_corr['mitoses'] > 10])\n",
        "print(df_sin_corr.loc[df_sin_corr['mitoses'] < 0])\n",
        "print(df_sin_corr.loc[df_sin_corr['target'] > 10])\n",
        "print(df_sin_corr.loc[df_sin_corr['target'] < 0])"
      ],
      "execution_count": 117,
      "outputs": [
        {
          "output_type": "stream",
          "name": "stdout",
          "text": [
            "Empty DataFrame\n",
            "Columns: [clump_thicknes, adhesion, epithelial_cell_size, nuclei, chromatin, nucleoli, mitoses, target]\n",
            "Index: []\n",
            "Empty DataFrame\n",
            "Columns: [clump_thicknes, adhesion, epithelial_cell_size, nuclei, chromatin, nucleoli, mitoses, target]\n",
            "Index: []\n",
            "Empty DataFrame\n",
            "Columns: [clump_thicknes, adhesion, epithelial_cell_size, nuclei, chromatin, nucleoli, mitoses, target]\n",
            "Index: []\n",
            "Empty DataFrame\n",
            "Columns: [clump_thicknes, adhesion, epithelial_cell_size, nuclei, chromatin, nucleoli, mitoses, target]\n",
            "Index: []\n",
            "Empty DataFrame\n",
            "Columns: [clump_thicknes, adhesion, epithelial_cell_size, nuclei, chromatin, nucleoli, mitoses, target]\n",
            "Index: []\n",
            "Empty DataFrame\n",
            "Columns: [clump_thicknes, adhesion, epithelial_cell_size, nuclei, chromatin, nucleoli, mitoses, target]\n",
            "Index: []\n",
            "Empty DataFrame\n",
            "Columns: [clump_thicknes, adhesion, epithelial_cell_size, nuclei, chromatin, nucleoli, mitoses, target]\n",
            "Index: []\n",
            "Empty DataFrame\n",
            "Columns: [clump_thicknes, adhesion, epithelial_cell_size, nuclei, chromatin, nucleoli, mitoses, target]\n",
            "Index: []\n",
            "Empty DataFrame\n",
            "Columns: [clump_thicknes, adhesion, epithelial_cell_size, nuclei, chromatin, nucleoli, mitoses, target]\n",
            "Index: []\n",
            "Empty DataFrame\n",
            "Columns: [clump_thicknes, adhesion, epithelial_cell_size, nuclei, chromatin, nucleoli, mitoses, target]\n",
            "Index: []\n",
            "Empty DataFrame\n",
            "Columns: [clump_thicknes, adhesion, epithelial_cell_size, nuclei, chromatin, nucleoli, mitoses, target]\n",
            "Index: []\n",
            "Empty DataFrame\n",
            "Columns: [clump_thicknes, adhesion, epithelial_cell_size, nuclei, chromatin, nucleoli, mitoses, target]\n",
            "Index: []\n",
            "Empty DataFrame\n",
            "Columns: [clump_thicknes, adhesion, epithelial_cell_size, nuclei, chromatin, nucleoli, mitoses, target]\n",
            "Index: []\n",
            "Empty DataFrame\n",
            "Columns: [clump_thicknes, adhesion, epithelial_cell_size, nuclei, chromatin, nucleoli, mitoses, target]\n",
            "Index: []\n",
            "Empty DataFrame\n",
            "Columns: [clump_thicknes, adhesion, epithelial_cell_size, nuclei, chromatin, nucleoli, mitoses, target]\n",
            "Index: []\n",
            "Empty DataFrame\n",
            "Columns: [clump_thicknes, adhesion, epithelial_cell_size, nuclei, chromatin, nucleoli, mitoses, target]\n",
            "Index: []\n"
          ]
        }
      ]
    },
    {
      "cell_type": "markdown",
      "metadata": {
        "id": "x9n3IKxokZ24"
      },
      "source": [
        "No es necesario aplicar feature scaling porque pudimos comprobar (línea de código anterior) que los valores de todas las features están en la escala entre 0 y 10"
      ]
    },
    {
      "cell_type": "markdown",
      "metadata": {
        "id": "hDKBkwOVnQrY"
      },
      "source": [
        "**¿La media de las variables es diferente según si el registro es bengino o maligno?**"
      ]
    },
    {
      "cell_type": "code",
      "metadata": {
        "id": "y1yc9N1BJHi-",
        "colab": {
          "base_uri": "https://localhost:8080/"
        },
        "outputId": "869c2124-823b-4812-9280-ea72c3f2cb51"
      },
      "source": [
        "print(df_sin_corr.groupby('target')['clump_thicknes'].mean())\n",
        "print('-----------------------------------------------')\n",
        "print(df_sin_corr.groupby('target')['adhesion'].mean())\n",
        "print('-----------------------------------------------')\n",
        "print(df_sin_corr.groupby('target')['epithelial_cell_size'].mean())\n",
        "print('-----------------------------------------------')\n",
        "print(df_sin_corr.groupby('target')['nuclei'].mean())\n",
        "print('-----------------------------------------------')\n",
        "print(df_sin_corr.groupby('target')['chromatin'].mean())\n",
        "print('-----------------------------------------------')\n",
        "print(df_sin_corr.groupby('target')['nucleoli'].mean())\n",
        "print('-----------------------------------------------')\n",
        "print(df_sin_corr.groupby('target')['mitoses'].mean())"
      ],
      "execution_count": 133,
      "outputs": [
        {
          "output_type": "stream",
          "name": "stdout",
          "text": [
            "target\n",
            "0    2.956332\n",
            "1    7.195021\n",
            "Name: clump_thicknes, dtype: float64\n",
            "-----------------------------------------------\n",
            "target\n",
            "0    1.364629\n",
            "1    5.547718\n",
            "Name: adhesion, dtype: float64\n",
            "-----------------------------------------------\n",
            "target\n",
            "0    2.120087\n",
            "1    5.298755\n",
            "Name: epithelial_cell_size, dtype: float64\n",
            "-----------------------------------------------\n",
            "target\n",
            "0    1.397380\n",
            "1    7.589212\n",
            "Name: nuclei, dtype: float64\n",
            "-----------------------------------------------\n",
            "target\n",
            "0    2.100437\n",
            "1    5.979253\n",
            "Name: chromatin, dtype: float64\n",
            "-----------------------------------------------\n",
            "target\n",
            "0    1.290393\n",
            "1    5.863071\n",
            "Name: nucleoli, dtype: float64\n",
            "-----------------------------------------------\n",
            "target\n",
            "0    1.063319\n",
            "1    2.589212\n",
            "Name: mitoses, dtype: float64\n"
          ]
        }
      ]
    },
    {
      "cell_type": "markdown",
      "metadata": {
        "id": "hSrSGoM-pkWe"
      },
      "source": [
        "Para todas las features el valor de media para el tipo de tumor (benigno o maligno), es diferente."
      ]
    },
    {
      "cell_type": "markdown",
      "metadata": {
        "id": "xyoaAwcyqnsq"
      },
      "source": [
        "**Grafique las variables separando registros bengignos vs malignos**"
      ]
    },
    {
      "cell_type": "code",
      "metadata": {
        "id": "id7x93Vku7Gx"
      },
      "source": [
        "df_sin_corr_benigno = df.loc[df['target'] == 0]\n",
        "df_sin_corr_maligno = df.loc[df['target'] == 1]\n",
        "labels = ['benigno', 'maligno']"
      ],
      "execution_count": null,
      "outputs": []
    },
    {
      "cell_type": "code",
      "metadata": {
        "colab": {
          "base_uri": "https://localhost:8080/",
          "height": 301
        },
        "id": "JL2HSUikqp3Z",
        "outputId": "8b58cc40-f177-4080-dd02-4f39b7f9b22f"
      },
      "source": [
        "print('Comparación de clump_thicknes según tumor benigno (azul) o malgino (naranja)')\n",
        "df_sin_corr_benigno['clump_thicknes'].plot.hist()\n",
        "df_sin_corr_maligno['clump_thicknes'].plot.hist()\n",
        "pl.legend(labels)"
      ],
      "execution_count": 152,
      "outputs": [
        {
          "output_type": "stream",
          "name": "stdout",
          "text": [
            "Comparación de clump_thicknes según tumor benigno (azul) o malgino (naranja)\n"
          ]
        },
        {
          "output_type": "execute_result",
          "data": {
            "text/plain": [
              "<matplotlib.legend.Legend at 0x7f7a84df0d10>"
            ]
          },
          "metadata": {},
          "execution_count": 152
        },
        {
          "output_type": "display_data",
          "data": {
            "image/png": "[encoded data removed]",
            "text/plain": [
              "<Figure size 432x288 with 1 Axes>"
            ]
          },
          "metadata": {
            "needs_background": "light"
          }
        }
      ]
    },
    {
      "cell_type": "code",
      "metadata": {
        "colab": {
          "base_uri": "https://localhost:8080/",
          "height": 301
        },
        "id": "-mW2R0syvA2A",
        "outputId": "039df7fe-e49e-48d3-e178-e227b0b7979b"
      },
      "source": [
        "print('Comparación de adhesion según tumor benigno (azul) o malgino (naranja)')\n",
        "df_sin_corr_benigno['adhesion'].plot.hist()\n",
        "df_sin_corr_maligno['adhesion'].plot.hist()\n",
        "pl.legend(labels)"
      ],
      "execution_count": 154,
      "outputs": [
        {
          "output_type": "stream",
          "name": "stdout",
          "text": [
            "Comparación de adhesion según tumor benigno (azul) o malgino (naranja)\n"
          ]
        },
        {
          "output_type": "execute_result",
          "data": {
            "text/plain": [
              "<matplotlib.legend.Legend at 0x7f7a85fc9c10>"
            ]
          },
          "metadata": {},
          "execution_count": 154
        },
        {
          "output_type": "display_data",
          "data": {
            "image/png": "[encoded data removed]",
            "text/plain": [
              "<Figure size 432x288 with 1 Axes>"
            ]
          },
          "metadata": {
            "needs_background": "light"
          }
        }
      ]
    },
    {
      "cell_type": "code",
      "metadata": {
        "colab": {
          "base_uri": "https://localhost:8080/",
          "height": 301
        },
        "id": "gAVnc-I4vaai",
        "outputId": "772a7c53-359a-477a-c4c0-c5bd9fff4551"
      },
      "source": [
        "print('Comparación de epithelial_cell_size según tumor benigno (azul) o malgino (naranja)')\n",
        "df_sin_corr_benigno['epithelial_cell_size'].plot.hist()\n",
        "df_sin_corr_maligno['epithelial_cell_size'].plot.hist()\n",
        "pl.legend(labels)"
      ],
      "execution_count": 155,
      "outputs": [
        {
          "output_type": "stream",
          "name": "stdout",
          "text": [
            "Comparación de epithelial_cell_size según tumor benigno (azul) o malgino (naranja)\n"
          ]
        },
        {
          "output_type": "execute_result",
          "data": {
            "text/plain": [
              "<matplotlib.legend.Legend at 0x7f7a8570ff10>"
            ]
          },
          "metadata": {},
          "execution_count": 155
        },
        {
          "output_type": "display_data",
          "data": {
            "image/png": "[encoded data removed]",
            "text/plain": [
              "<Figure size 432x288 with 1 Axes>"
            ]
          },
          "metadata": {
            "needs_background": "light"
          }
        }
      ]
    },
    {
      "cell_type": "code",
      "metadata": {
        "colab": {
          "base_uri": "https://localhost:8080/",
          "height": 303
        },
        "id": "8Put6Wb2vax4",
        "outputId": "a1c8b82b-37aa-45f7-8117-8c1349015ffc"
      },
      "source": [
        "print('Comparación de nuclei según tumor benigno (azul) o malgino (naranja)')\n",
        "df_sin_corr_benigno['nuclei'].plot.hist()\n",
        "df_sin_corr_maligno['nuclei'].plot.hist()"
      ],
      "execution_count": 145,
      "outputs": [
        {
          "output_type": "stream",
          "name": "stdout",
          "text": [
            "Comparación de nuclei según tumor benigno (azul) o malgino (naranja)\n"
          ]
        },
        {
          "output_type": "execute_result",
          "data": {
            "text/plain": [
              "<matplotlib.axes._subplots.AxesSubplot at 0x7f7a85683990>"
            ]
          },
          "metadata": {},
          "execution_count": 145
        },
        {
          "output_type": "display_data",
          "data": {
            "image/png": "[encoded data removed]",
            "text/plain": [
              "<Figure size 432x288 with 1 Axes>"
            ]
          },
          "metadata": {
            "needs_background": "light"
          }
        }
      ]
    },
    {
      "cell_type": "code",
      "metadata": {
        "colab": {
          "base_uri": "https://localhost:8080/",
          "height": 301
        },
        "id": "Ak3z5HkYvbBh",
        "outputId": "eca5594b-7dc9-4db8-f911-e3f6d104be8f"
      },
      "source": [
        "print('Comparación de chromatin según tumor benigno (azul) o malgino (naranja)')\n",
        "df_sin_corr_benigno['chromatin'].plot.hist()\n",
        "df_sin_corr_maligno['chromatin'].plot.hist()\n",
        "pl.legend(labels)"
      ],
      "execution_count": 156,
      "outputs": [
        {
          "output_type": "stream",
          "name": "stdout",
          "text": [
            "Comparación de chromatin según tumor benigno (azul) o malgino (naranja)\n"
          ]
        },
        {
          "output_type": "execute_result",
          "data": {
            "text/plain": [
              "<matplotlib.legend.Legend at 0x7f7a86738fd0>"
            ]
          },
          "metadata": {},
          "execution_count": 156
        },
        {
          "output_type": "display_data",
          "data": {
            "image/png": "[encoded data removed]",
            "text/plain": [
              "<Figure size 432x288 with 1 Axes>"
            ]
          },
          "metadata": {
            "needs_background": "light"
          }
        }
      ]
    },
    {
      "cell_type": "code",
      "metadata": {
        "colab": {
          "base_uri": "https://localhost:8080/",
          "height": 301
        },
        "id": "ArsRB5KFvbQD",
        "outputId": "a8f0f21c-338a-46a3-87ff-edeeb9ef1d7d"
      },
      "source": [
        "print('Comparación de nucleoli según tumor benigno (azul) o malgino (naranja)')\n",
        "df_sin_corr_benigno['nucleoli'].plot.hist()\n",
        "df_sin_corr_maligno['nucleoli'].plot.hist()\n",
        "pl.legend(labels)"
      ],
      "execution_count": 157,
      "outputs": [
        {
          "output_type": "stream",
          "name": "stdout",
          "text": [
            "Comparación de nucleoli según tumor benigno (azul) o malgino (naranja)\n"
          ]
        },
        {
          "output_type": "execute_result",
          "data": {
            "text/plain": [
              "<matplotlib.legend.Legend at 0x7f7a84b90f10>"
            ]
          },
          "metadata": {},
          "execution_count": 157
        },
        {
          "output_type": "display_data",
          "data": {
            "image/png": "[encoded data removed]",
            "text/plain": [
              "<Figure size 432x288 with 1 Axes>"
            ]
          },
          "metadata": {
            "needs_background": "light"
          }
        }
      ]
    },
    {
      "cell_type": "code",
      "metadata": {
        "colab": {
          "base_uri": "https://localhost:8080/",
          "height": 301
        },
        "id": "giCB0ul7vbYY",
        "outputId": "d99f4031-9e85-4f41-fd6d-1951653dd260"
      },
      "source": [
        "print('Comparación de mitoses según tumor benigno (azul) o malgino (naranja)')\n",
        "df_sin_corr_benigno['mitoses'].plot.hist()\n",
        "df_sin_corr_maligno['mitoses'].plot.hist()\n",
        "pl.legend(labels)"
      ],
      "execution_count": 151,
      "outputs": [
        {
          "output_type": "stream",
          "name": "stdout",
          "text": [
            "Comparación de mitoses según tumor benigno (azul) o malgino (naranja)\n"
          ]
        },
        {
          "output_type": "execute_result",
          "data": {
            "text/plain": [
              "<matplotlib.legend.Legend at 0x7f7a84f16990>"
            ]
          },
          "metadata": {},
          "execution_count": 151
        },
        {
          "output_type": "display_data",
          "data": {
            "image/png": "[encoded data removed]",
            "text/plain": [
              "<Figure size 432x288 with 1 Axes>"
            ]
          },
          "metadata": {
            "needs_background": "light"
          }
        }
      ]
    },
    {
      "cell_type": "markdown",
      "metadata": {
        "id": "uKtxva3xx0Xj"
      },
      "source": [
        "#B - Arbol de decisión\n"
      ]
    },
    {
      "cell_type": "markdown",
      "metadata": {
        "id": "2TfUmgJqx92T"
      },
      "source": [
        "**Cree un Árbol de Decisión para este set de datos que alcance al menos 93% de precisión. Recuerde realizar los siguientes pasos:**"
      ]
    },
    {
      "cell_type": "markdown",
      "metadata": {
        "id": "8FsrCNQiyCm7"
      },
      "source": [
        "**Separar los datos en conjuntos de entrenamiento y test**"
      ]
    },
    {
      "cell_type": "code",
      "metadata": {
        "id": "-s-9ZQX-upr6"
      },
      "source": [
        ""
      ],
      "execution_count": null,
      "outputs": []
    },
    {
      "cell_type": "markdown",
      "metadata": {
        "id": "CrlKAydFyGA7"
      },
      "source": [
        "**Entrenar el modelo**"
      ]
    },
    {
      "cell_type": "code",
      "metadata": {
        "id": "DIWNsAReupfg"
      },
      "source": [
        ""
      ],
      "execution_count": null,
      "outputs": []
    },
    {
      "cell_type": "markdown",
      "metadata": {
        "id": "3fC8UQKByNhr"
      },
      "source": [
        "**Evaluar el modelo**"
      ]
    },
    {
      "cell_type": "code",
      "metadata": {
        "id": "Eyo0DymvyQx3"
      },
      "source": [
        ""
      ],
      "execution_count": null,
      "outputs": []
    },
    {
      "cell_type": "markdown",
      "metadata": {
        "id": "lyUGo3YmyRM9"
      },
      "source": [
        ""
      ]
    },
    {
      "cell_type": "code",
      "metadata": {
        "id": "TGFHIvFeyQjT"
      },
      "source": [
        ""
      ],
      "execution_count": null,
      "outputs": []
    },
    {
      "cell_type": "markdown",
      "metadata": {
        "id": "uTDW48wOyTp4"
      },
      "source": [
        "**Graficar el arbol**"
      ]
    },
    {
      "cell_type": "code",
      "metadata": {
        "id": "crmnR-bEyP7I"
      },
      "source": [
        ""
      ],
      "execution_count": null,
      "outputs": []
    },
    {
      "cell_type": "markdown",
      "metadata": {
        "id": "oVmP9KxGyYDn"
      },
      "source": [
        "**Explique por qué seleccionó el modelo final argumentando lo observado al modificar los distintos párametros del algoritmo, puede poner como ejemplo otros árboles.**"
      ]
    },
    {
      "cell_type": "code",
      "metadata": {
        "id": "fSYAM___uoH5"
      },
      "source": [
        ""
      ],
      "execution_count": null,
      "outputs": []
    }
  ]
}